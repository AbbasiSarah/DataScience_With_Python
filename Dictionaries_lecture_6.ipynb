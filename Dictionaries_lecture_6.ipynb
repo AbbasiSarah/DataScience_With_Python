{
  "nbformat": 4,
  "nbformat_minor": 0,
  "metadata": {
    "colab": {
      "provenance": []
    },
    "kernelspec": {
      "name": "python3",
      "display_name": "Python 3"
    },
    "language_info": {
      "name": "python"
    }
  },
  "cells": [
    {
      "cell_type": "code",
      "execution_count": 1,
      "metadata": {
        "id": "TpfNeA9CkbTS"
      },
      "outputs": [],
      "source": [
        "countries = ['spain', 'france', 'germany', 'norway']\n",
        "capitals = ['madrid', 'paris', 'berlin', 'oslo']\n"
      ]
    },
    {
      "cell_type": "markdown",
      "source": [
        "Use the index() method on countries to find the index of 'germany'. Store this index as ind_ger. Use ind_ger to access the capital of Germany from the capitals list. Print it out.\n"
      ],
      "metadata": {
        "id": "kQwjpWiTk2K4"
      }
    },
    {
      "cell_type": "code",
      "source": [
        "ind_ger=countries.index('germany')\n",
        "print(capitals[ind_ger])\n"
      ],
      "metadata": {
        "colab": {
          "base_uri": "https://localhost:8080/"
        },
        "id": "HHCappQjk4y2",
        "outputId": "6b2b9741-e5a3-49e5-f319-0f75fb8e159c"
      },
      "execution_count": 5,
      "outputs": [
        {
          "output_type": "stream",
          "name": "stdout",
          "text": [
            "berlin\n"
          ]
        }
      ]
    },
    {
      "cell_type": "markdown",
      "source": [
        "Creating a dictionary Dist from two list keys and values and printing the data type of Dist\n",
        "\n",
        "\n",
        " #creating keys and values\n",
        "keys = ['name', 'age', 'food']\n",
        "\n",
        "values = ['Monty', 42, 'hotdog']"
      ],
      "metadata": {
        "id": "WPHne6JDlgRc"
      }
    },
    {
      "cell_type": "markdown",
      "source": [],
      "metadata": {
        "id": "YrrUuEznl3qG"
      }
    },
    {
      "cell_type": "code",
      "source": [
        " #creating a dictionary - Dist\n",
        "Dist={'name':'Monty', 'age':42,'food':' hotdog'}\n",
        "print(Dist)\n",
        "\n",
        "\n"
      ],
      "metadata": {
        "colab": {
          "base_uri": "https://localhost:8080/"
        },
        "id": "CqwoxDJ4lZVV",
        "outputId": "13aefdf4-7e85-4b5b-fe79-91e13910c890"
      },
      "execution_count": 8,
      "outputs": [
        {
          "output_type": "stream",
          "name": "stdout",
          "text": [
            "{'name': 'Monty', 'age': 42, 'food': ' hotdog'}\n"
          ]
        }
      ]
    },
    {
      "cell_type": "markdown",
      "source": [
        "Using\tcountries\tand\tcapitals\tlists,\tcreate\ta\tdictionary\tcalled\teurope\twith\t4\tkey:value\n",
        "pairs.\n",
        "Print out europe to see if the result is what you expected"
      ],
      "metadata": {
        "id": "DsqKguNgl51H"
      }
    },
    {
      "cell_type": "code",
      "source": [
        "# Definition of countries and capital\n",
        "countries = ['spain', 'france', 'germany', 'norway']\n",
        "capitals = ['madrid', 'paris', 'berlin', 'oslo']\n",
        "# From string in countries and capitals, create dictionary Europe\n",
        "europe = { 'spain':'madrid', 'france':'paris','germany':'berlin', 'norway':'oslo'} # Print Europe\n",
        "print(europe)\n"
      ],
      "metadata": {
        "colab": {
          "base_uri": "https://localhost:8080/"
        },
        "id": "UG6HsxkJmDzF",
        "outputId": "acd5d88c-f0de-4af8-ae7b-cae04c25b75e"
      },
      "execution_count": 9,
      "outputs": [
        {
          "output_type": "stream",
          "name": "stdout",
          "text": [
            "{'spain': 'madrid', 'france': 'paris', 'germany': 'berlin', 'norway': 'oslo'}\n"
          ]
        }
      ]
    },
    {
      "cell_type": "code",
      "source": [],
      "metadata": {
        "id": "XFnkEv8GmLAa"
      },
      "execution_count": null,
      "outputs": []
    },
    {
      "cell_type": "markdown",
      "source": [
        "ACCESSING A **DICTIONARY**"
      ],
      "metadata": {
        "id": "WRth-vf_mLRH"
      }
    },
    {
      "cell_type": "markdown",
      "source": [
        "Get name from the Dict dictionary\n",
        "#using a dictionary\n",
        "Dict={'name': 'Monty', 'age': 42, 'food': ‘hotdog'}\n"
      ],
      "metadata": {
        "id": "2yP6BJIumWdy"
      }
    },
    {
      "cell_type": "code",
      "source": [
        "Dict={'name': 'Monty', 'age': 42, 'food': 'hotdog'}\n"
      ],
      "metadata": {
        "id": "8ie1hz57mfKn"
      },
      "execution_count": 12,
      "outputs": []
    },
    {
      "cell_type": "code",
      "source": [
        "print(Dict['name'])\n"
      ],
      "metadata": {
        "colab": {
          "base_uri": "https://localhost:8080/"
        },
        "id": "9e7ufb4nmqBJ",
        "outputId": "a900b689-1451-4b22-fa4d-dd42bbc118c9"
      },
      "execution_count": 13,
      "outputs": [
        {
          "output_type": "stream",
          "name": "stdout",
          "text": [
            "Monty\n"
          ]
        }
      ]
    },
    {
      "cell_type": "markdown",
      "source": [
        "Check out which keys are in europe by calling the keys() method on europe. Print out the result.\n"
      ],
      "metadata": {
        "id": "G8hqm0PrmvR9"
      }
    },
    {
      "cell_type": "code",
      "source": [
        "europe = { 'spain':'madrid', 'france':'paris','germany':'berlin', 'norway':'oslo' } # Print Europe\n",
        "print(europe)\n",
        "\n"
      ],
      "metadata": {
        "colab": {
          "base_uri": "https://localhost:8080/"
        },
        "id": "Ms57TWVIm127",
        "outputId": "1e35ce8c-df39-49e8-cd3b-ae49fff9e90b"
      },
      "execution_count": 15,
      "outputs": [
        {
          "output_type": "stream",
          "name": "stdout",
          "text": [
            "{'spain': 'madrid', 'france': 'paris', 'germany': 'berlin', 'norway': 'oslo'}\n"
          ]
        }
      ]
    },
    {
      "cell_type": "code",
      "source": [
        "#print out keys of europe dictionary\n",
        "print(europe.keys())"
      ],
      "metadata": {
        "colab": {
          "base_uri": "https://localhost:8080/"
        },
        "id": "TcQ5npk5m72E",
        "outputId": "53e2b4e7-ea34-4e2e-d5e7-7308193c4cd6"
      },
      "execution_count": 16,
      "outputs": [
        {
          "output_type": "stream",
          "name": "stdout",
          "text": [
            "dict_keys(['spain', 'france', 'germany', 'norway'])\n"
          ]
        }
      ]
    },
    {
      "cell_type": "code",
      "source": [],
      "metadata": {
        "id": "4TREk-lpnArf"
      },
      "execution_count": null,
      "outputs": []
    },
    {
      "cell_type": "markdown",
      "source": [
        "Print out the value that belongs to the key 'norway‘ from your dictionary.\n"
      ],
      "metadata": {
        "id": "4ugj02esnA9w"
      }
    },
    {
      "cell_type": "markdown",
      "source": [
        "DICTIONARY MANIPULATION - ADDITION"
      ],
      "metadata": {
        "id": "slZ11w7GnH4V"
      }
    },
    {
      "cell_type": "code",
      "source": [
        "Dist={'name':'Monty', 'age':42,'food':' hotdog'}\n",
        "\n"
      ],
      "metadata": {
        "id": "ziLwEbp-nPDQ"
      },
      "execution_count": 19,
      "outputs": []
    },
    {
      "cell_type": "code",
      "source": [
        "Dist['height']=61\n",
        "print(Dist)"
      ],
      "metadata": {
        "colab": {
          "base_uri": "https://localhost:8080/"
        },
        "id": "ORN3Wj8Zna7S",
        "outputId": "664408d1-8c89-44ed-893d-9a8971bc7d2c"
      },
      "execution_count": 22,
      "outputs": [
        {
          "output_type": "stream",
          "name": "stdout",
          "text": [
            "{'name': 'Monty', 'age': 42, 'food': ' hotdog', 'height': 61}\n"
          ]
        }
      ]
    },
    {
      "cell_type": "markdown",
      "source": [
        "Add the key 'italy' with the value 'rome' to europe and print out europe.\n"
      ],
      "metadata": {
        "id": "S4Jz-nGNnv3h"
      }
    },
    {
      "cell_type": "markdown",
      "source": [
        "Add these two key:value pairs to europe: 'poland‘ 'warsaw & 'iceland' 'reykjavik’. Print out europe.\n"
      ],
      "metadata": {
        "id": "IZisPi5hn0E6"
      }
    },
    {
      "cell_type": "code",
      "source": [
        "europe = { 'spain':'madrid', 'france':'paris','germany':'berlin', 'norway':'oslo', 'italy':'rome' }\n",
        "# Print Europe\n",
        "print(europe)\n",
        "\n"
      ],
      "metadata": {
        "colab": {
          "base_uri": "https://localhost:8080/"
        },
        "id": "zC00Rm1Yn7Rg",
        "outputId": "815c835d-a96c-419f-da38-b74c27ebbcec"
      },
      "execution_count": 24,
      "outputs": [
        {
          "output_type": "stream",
          "name": "stdout",
          "text": [
            "{'spain': 'madrid', 'france': 'paris', 'germany': 'berlin', 'norway': 'oslo', 'italy': 'rome'}\n"
          ]
        }
      ]
    },
    {
      "cell_type": "code",
      "source": [
        "#Adding new keys to europe.\n",
        "europe['iceland']= 'reykjavik'\n",
        "europe['poland']= 'warsaw'\n",
        "# Print Europe\n",
        "print(europe)"
      ],
      "metadata": {
        "colab": {
          "base_uri": "https://localhost:8080/"
        },
        "id": "yM6KvAMboDzm",
        "outputId": "5722126f-0596-4456-dfaf-191f066b24ff"
      },
      "execution_count": 25,
      "outputs": [
        {
          "output_type": "stream",
          "name": "stdout",
          "text": [
            "{'spain': 'madrid', 'france': 'paris', 'germany': 'berlin', 'norway': 'oslo', 'italy': 'rome', 'iceland': 'reykjavik', 'poland': 'warsaw'}\n"
          ]
        }
      ]
    },
    {
      "cell_type": "markdown",
      "source": [
        "You updated the capital of Germany to 'bonn'; it was 'berlin'. Update its value..\n"
      ],
      "metadata": {
        "id": "hxVIj3jqoTmX"
      }
    },
    {
      "cell_type": "code",
      "source": [
        "europe['germany']='berlin'\n",
        "#print europe\n",
        "print(europe)\n"
      ],
      "metadata": {
        "colab": {
          "base_uri": "https://localhost:8080/"
        },
        "id": "-MajCVSEoYTn",
        "outputId": "5f90475d-88c1-47a7-932a-57823bab0071"
      },
      "execution_count": 26,
      "outputs": [
        {
          "output_type": "stream",
          "name": "stdout",
          "text": [
            "{'spain': 'madrid', 'france': 'paris', 'germany': 'berlin', 'norway': 'oslo', 'italy': 'rome', 'iceland': 'reykjavik', 'poland': 'warsaw'}\n"
          ]
        }
      ]
    },
    {
      "cell_type": "markdown",
      "source": [
        "DICTIONARY MANIPULATION - DELETION"
      ],
      "metadata": {
        "id": "82UYUcEyoiLp"
      }
    },
    {
      "cell_type": "markdown",
      "source": [
        "Delete the Key Australia and add Austria with the Capital Vienna ?\n",
        "You\tupdated\tthe\tcapital\tof\tGermany\tto\t'bonn';\tit\twas\t'berlin'.\tUpdate\tits value..\n"
      ],
      "metadata": {
        "id": "nySJFaz_olPm"
      }
    },
    {
      "cell_type": "code",
      "source": [
        "del(Dist['height'])\n",
        "print(Dist)\n"
      ],
      "metadata": {
        "colab": {
          "base_uri": "https://localhost:8080/"
        },
        "id": "N5JRk0bloru-",
        "outputId": "8788a067-eb61-48a4-ad81-a8380f40a07a"
      },
      "execution_count": 27,
      "outputs": [
        {
          "output_type": "stream",
          "name": "stdout",
          "text": [
            "{'name': 'Monty', 'age': 42, 'food': ' hotdog'}\n"
          ]
        }
      ]
    },
    {
      "cell_type": "markdown",
      "source": [
        "Australia is not in Europe,\tAustria is! Remove the key 'australia' from europe. Print out europe to see if your cleaning work paid off.\n"
      ],
      "metadata": {
        "id": "kCW6pEkuo2rU"
      }
    },
    {
      "cell_type": "code",
      "source": [
        "europe = {'spain':'madrid', 'france':'paris', 'germany':'bonn', 'norway':'oslo', 'italy':'rome', 'poland':'warsaw', 'australia':'vienna' }\n",
        "#print europe\n",
        "print(europe)\n",
        "#remove 'Australia' form Europe\n",
        "\n"
      ],
      "metadata": {
        "colab": {
          "base_uri": "https://localhost:8080/"
        },
        "id": "7bPr0tDgo7mv",
        "outputId": "762a914d-2e1c-4f3b-a0f4-56230a0d6dc7"
      },
      "execution_count": 29,
      "outputs": [
        {
          "output_type": "stream",
          "name": "stdout",
          "text": [
            "{'spain': 'madrid', 'france': 'paris', 'germany': 'bonn', 'norway': 'oslo', 'italy': 'rome', 'poland': 'warsaw', 'australia': 'vienna'}\n"
          ]
        }
      ]
    },
    {
      "cell_type": "code",
      "source": [
        "del(europe['australia'])\n",
        "#print europe\n",
        "print(europe)"
      ],
      "metadata": {
        "colab": {
          "base_uri": "https://localhost:8080/"
        },
        "id": "pvVSo5QJpCBz",
        "outputId": "9498c0f1-b2c5-4809-ccd7-d11210745cec"
      },
      "execution_count": 30,
      "outputs": [
        {
          "output_type": "stream",
          "name": "stdout",
          "text": [
            "{'spain': 'madrid', 'france': 'paris', 'germany': 'bonn', 'norway': 'oslo', 'italy': 'rome', 'poland': 'warsaw'}\n"
          ]
        }
      ]
    },
    {
      "cell_type": "markdown",
      "source": [
        "NESTED DICTIONARY"
      ],
      "metadata": {
        "id": "pD1GDMR_pKAV"
      }
    },
    {
      "cell_type": "code",
      "source": [
        "pep1={'name': 'John', 'age': '27', 'sex': 'Male'}\n",
        "pep2={'name': 'Marie', 'age': '22', 'sex': 'Female'} #creating a dictionary of people using pep1 &pep2\n"
      ],
      "metadata": {
        "id": "t3DoEhfMpPAJ"
      },
      "execution_count": 31,
      "outputs": []
    },
    {
      "cell_type": "code",
      "source": [
        "people = {'pep1': {'name': 'John', 'age': '27', 'sex': 'Male'},\n",
        "          'pep2': {'name': 'Marie', 'age': '22', 'sex': 'Female'}}\n",
        "#print people\n",
        "print(people)"
      ],
      "metadata": {
        "colab": {
          "base_uri": "https://localhost:8080/"
        },
        "id": "EMz8PVKEpej0",
        "outputId": "fdf29a50-5b02-4891-b01a-d62985c06179"
      },
      "execution_count": 32,
      "outputs": [
        {
          "output_type": "stream",
          "name": "stdout",
          "text": [
            "{'pep1': {'name': 'John', 'age': '27', 'sex': 'Male'}, 'pep2': {'name': 'Marie', 'age': '22', 'sex': 'Female'}}\n"
          ]
        }
      ]
    },
    {
      "cell_type": "markdown",
      "source": [
        "Create a dictionary of dictionaries europe using the dictionaries of individual countries.\n",
        "\n",
        "\n",
        "Use the following data for this task:\n",
        "\n",
        "spain={ 'capital':'madrid', 'population':46.77 }\n",
        "\n",
        "france= { 'capital':'paris', 'population':66.03 }\n",
        "\n",
        "\n",
        " germany= { 'capital':'berlin', 'population':80.62 }\n",
        "\n",
        " norway ={ 'capital':'oslo', 'population':5.084 }\n",
        "\n"
      ],
      "metadata": {
        "id": "Fm6iaxl2pk7P"
      }
    },
    {
      "cell_type": "code",
      "source": [
        "#creating countries dictionaries\n",
        "spain={ 'capital':'madrid', 'population':46.77 }\n",
        "france= { 'capital':'paris', 'population':66.03 }\n",
        "germany= { 'capital':'berlin', 'population':80.62 }\n",
        "norway ={ 'capital':'oslo', 'population':5.084 }\n",
        "\n"
      ],
      "metadata": {
        "id": "y_0wlZM2px0I"
      },
      "execution_count": 33,
      "outputs": []
    },
    {
      "cell_type": "code",
      "source": [
        "#creating europe a nested dictionary\n",
        "europe = {\n",
        "'spain': { 'capital':'madrid', 'population':46.77 },\n",
        "'france': { 'capital':'paris', 'population':66.03 },\n",
        "'germany': { 'capital':'berlin', 'population':80.62 },\n",
        "'norway': { 'capital':'oslo', 'population':5.084 } }\n",
        "\n",
        "#print out europe\n",
        "print(europe)\n"
      ],
      "metadata": {
        "colab": {
          "base_uri": "https://localhost:8080/"
        },
        "id": "ZgNM_kabp3mL",
        "outputId": "b8e93915-7294-423a-b257-096a72629693"
      },
      "execution_count": 34,
      "outputs": [
        {
          "output_type": "stream",
          "name": "stdout",
          "text": [
            "{'spain': {'capital': 'madrid', 'population': 46.77}, 'france': {'capital': 'paris', 'population': 66.03}, 'germany': {'capital': 'berlin', 'population': 80.62}, 'norway': {'capital': 'oslo', 'population': 5.084}}\n"
          ]
        }
      ]
    },
    {
      "cell_type": "markdown",
      "source": [
        "Get John from the Nested dictionary\n",
        "#using a dictionary\n",
        "people = {'pep1': {'name': 'John', 'age': '27', 'sex': 'Male'},\n",
        "'pep2': {'name': 'Marie', 'age': '22', 'sex': 'Female'}}\n",
        "\n"
      ],
      "metadata": {
        "id": "7UKOAClzqEQn"
      }
    },
    {
      "cell_type": "code",
      "source": [
        "#print out name\n",
        "print(people['pep1']['name'])"
      ],
      "metadata": {
        "colab": {
          "base_uri": "https://localhost:8080/"
        },
        "id": "PDMrlY_6qGrm",
        "outputId": "e08f066e-845d-44e6-e512-491239fdd296"
      },
      "execution_count": 35,
      "outputs": [
        {
          "output_type": "stream",
          "name": "stdout",
          "text": [
            "John\n"
          ]
        }
      ]
    },
    {
      "cell_type": "markdown",
      "source": [],
      "metadata": {
        "id": "tnw-jhN5qeFd"
      }
    },
    {
      "cell_type": "markdown",
      "source": [
        "Use your nested dictionary europe to fetch the population for Spain.\n",
        "\n",
        "\n",
        "Print out the capital of France.\n",
        "\n"
      ],
      "metadata": {
        "id": "Lw7XiPUVqX4w"
      }
    },
    {
      "cell_type": "code",
      "source": [
        "print(europe['france']['capital'])"
      ],
      "metadata": {
        "colab": {
          "base_uri": "https://localhost:8080/"
        },
        "id": "Nv2W-25GqmcE",
        "outputId": "56a3a08c-f794-40a5-9e04-eb682dfb224e"
      },
      "execution_count": 36,
      "outputs": [
        {
          "output_type": "stream",
          "name": "stdout",
          "text": [
            "paris\n"
          ]
        }
      ]
    },
    {
      "cell_type": "markdown",
      "source": [
        "Create a dictionary, named data, with the keys 'capital' and 'population'. Set them to\n",
        "'rome' and 59.83, respectively.\n",
        "Add a new key-value pair to europe; the key is 'italy' and the value is data, print the dictionary you just built.\n"
      ],
      "metadata": {
        "id": "i7Dc2PeiqtEN"
      }
    },
    {
      "cell_type": "markdown",
      "source": [
        "**Pandas and Dictionaries**\n",
        "Creating a pandas dataframe by using of employee data"
      ],
      "metadata": {
        "id": "IfvJVJ90q0gK"
      }
    },
    {
      "cell_type": "code",
      "source": [
        " # Import pandas package\n",
        "import pandas as pd\n",
        "# Define a dictionary containing employee data\n",
        "data = {'Name':['Jai', 'Princi', 'Gaurav', 'Anuj'],\n",
        "'Age':[27, 24, 22, 32],\n",
        "'Address':['Delhi', 'Kanpur', 'Allahabad', 'Kannauj'],\n",
        "'Qualification':['Msc', 'MA', 'MCA', 'Phd']}\n"
      ],
      "metadata": {
        "id": "NEACcuE-q6Qr"
      },
      "execution_count": 37,
      "outputs": []
    },
    {
      "cell_type": "markdown",
      "source": [
        " # Convert the dictionary into DataFrame\n",
        "\n"
      ],
      "metadata": {
        "id": "QnpWK8vfrFRE"
      }
    },
    {
      "cell_type": "code",
      "source": [
        "df = pd.DataFrame(data)\n",
        "print(df)"
      ],
      "metadata": {
        "colab": {
          "base_uri": "https://localhost:8080/"
        },
        "id": "CMK3XQJbrHgB",
        "outputId": "a15998de-e030-4c0b-8a92-523d7ee34cde"
      },
      "execution_count": 38,
      "outputs": [
        {
          "output_type": "stream",
          "name": "stdout",
          "text": [
            "     Name  Age    Address Qualification\n",
            "0     Jai   27      Delhi           Msc\n",
            "1  Princi   24     Kanpur            MA\n",
            "2  Gaurav   22  Allahabad           MCA\n",
            "3    Anuj   32    Kannauj           Phd\n"
          ]
        }
      ]
    },
    {
      "cell_type": "markdown",
      "source": [
        "names, containing the country names for which data is available.\n",
        "dr, a list with booleans that tells whether people drive left or right in the corresponding country. cpc, the number of motor vehicles per 1000 people in the corresponding country.\n",
        "\n",
        "# Pre-defined lists\n",
        "names = ['United States', 'Australia', 'Japan', 'India', 'Russia', 'Morocco', 'Egypt']\n",
        "dr = [True, False, False, False, True, True, True]\n",
        "\n",
        "cpc = [809, 731, 588, 18, 200, 70, 45]\n",
        "\n",
        "Each dictionary key is a column label and each value is a list which contains the column elements"
      ],
      "metadata": {
        "id": "pe9nlegqrTLn"
      }
    },
    {
      "cell_type": "markdown",
      "source": [
        "**Task**\n",
        "\n",
        "Use the pre-defined lists to create a dictionary called my_dict. There should be three key value pairs: key 'country' and value names.\n",
        "key 'drives_right' and value dr.\n",
        "key 'cars_per_cap' and value cpc\n"
      ],
      "metadata": {
        "id": "Dz084me3rbjp"
      }
    },
    {
      "cell_type": "code",
      "source": [
        "names = ['United States', 'Australia', 'Japan', 'India', 'Russia', 'Morocco', 'Egypt']\n",
        "dr =\t[True, False, False, False, True, True, True]\n",
        "cpc = [809, 731, 588, 18, 200, 70, 45]\n",
        "# Import pandas as pd import pandas as pd\n"
      ],
      "metadata": {
        "id": "M_J14iQ4rkd-"
      },
      "execution_count": 39,
      "outputs": []
    },
    {
      "cell_type": "code",
      "source": [
        "# Create dictionary my_dict with three key:value pairs: my_dict\n",
        "my_dict={'country':names,\n",
        "'drives_right':dr, 'cars_per_cap':cpc}\n"
      ],
      "metadata": {
        "id": "Fi2k2qKWrpjB"
      },
      "execution_count": 40,
      "outputs": []
    },
    {
      "cell_type": "markdown",
      "source": [
        "Convert\tyour\tdictionary\tmy_dict\tinto\ta\tDataFrame\tcalled\tcars\tand\tprint\tout cars.\n"
      ],
      "metadata": {
        "id": "w0zSzx5vrx2u"
      }
    },
    {
      "cell_type": "code",
      "source": [
        "cars=pd.DataFrame(my_dict)\n",
        "# Print cars\n",
        "print(cars)\n"
      ],
      "metadata": {
        "colab": {
          "base_uri": "https://localhost:8080/"
        },
        "id": "v0Zvnqm3r1qL",
        "outputId": "0ea2a45f-0573-4d82-a433-ddd01bcf5e72"
      },
      "execution_count": 41,
      "outputs": [
        {
          "output_type": "stream",
          "name": "stdout",
          "text": [
            "         country  drives_right  cars_per_cap\n",
            "0  United States          True           809\n",
            "1      Australia         False           731\n",
            "2          Japan         False           588\n",
            "3          India         False            18\n",
            "4         Russia          True           200\n",
            "5        Morocco          True            70\n",
            "6          Egypt          True            45\n"
          ]
        }
      ]
    },
    {
      "cell_type": "markdown",
      "source": [
        "Notice that the row labels (i.e. the labels for the different observations) were automatically set to integers from 0 up to 6?\n"
      ],
      "metadata": {
        "id": "QHom5o5BsFRB"
      }
    },
    {
      "cell_type": "markdown",
      "source": [
        "Notice that the row labels (i.e. the labels for the different observations) were automatically set to integers from 0 up to 6?\n"
      ],
      "metadata": {
        "id": "CXDxqwsYsOUV"
      }
    },
    {
      "cell_type": "code",
      "source": [
        "#Add row_labels in pandas DataFrame\n",
        "\n",
        "# Define a dictionary containing employee data\n",
        "data = {'Name':['Jai', 'Princi', 'Gaurav', 'Anuj'],\n",
        "'Age':[27, 24, 22, 32],\n",
        "'Address':['Delhi', 'Kanpur', 'Allahabad', 'Kannauj'],\n",
        "'Qualification':['Msc', 'MA', 'MCA', 'Phd']} # Convert the dictionary into DataFrame\n"
      ],
      "metadata": {
        "id": "rzq19EJ9sVea"
      },
      "execution_count": 43,
      "outputs": []
    },
    {
      "cell_type": "code",
      "source": [
        "df = pd.DataFrame(data)\n",
        "row_labels = ['emp1', 'emp2', 'emp3', 'emp4'] # Specify row labels of cars\n",
        "df.index=row_labels\n",
        "print(df)"
      ],
      "metadata": {
        "colab": {
          "base_uri": "https://localhost:8080/"
        },
        "id": "a0gXAGeQsmv-",
        "outputId": "b195b64d-8b6e-4809-804c-72aadaed7b95"
      },
      "execution_count": 45,
      "outputs": [
        {
          "output_type": "stream",
          "name": "stdout",
          "text": [
            "        Name  Age    Address Qualification\n",
            "emp1     Jai   27      Delhi           Msc\n",
            "emp2  Princi   24     Kanpur            MA\n",
            "emp3  Gaurav   22  Allahabad           MCA\n",
            "emp4    Anuj   32    Kannauj           Phd\n"
          ]
        }
      ]
    },
    {
      "cell_type": "markdown",
      "source": [
        "The row labels on the previous task are not correctly set. Specify the row labels by setting cars.index equal to row_labels.Print out cars again and check if the row labels are correct this time.\n",
        "\n",
        "# Definition of row_labels\n",
        "row_labels = ['US', 'AUS', 'JPN', 'IN', 'RU', 'MOR', 'EG'].\n"
      ],
      "metadata": {
        "id": "ee5WWso1s7t3"
      }
    }
  ]
}